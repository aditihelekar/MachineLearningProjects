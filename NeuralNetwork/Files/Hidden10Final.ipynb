{
 "cells": [
  {
   "cell_type": "code",
   "execution_count": 1,
   "metadata": {
    "collapsed": true
   },
   "outputs": [],
   "source": [
    "import pandas as pd\n",
    "import os\n",
    "import numpy as np"
   ]
  },
  {
   "cell_type": "code",
   "execution_count": 2,
   "metadata": {
    "collapsed": false
   },
   "outputs": [
    {
     "name": "stdout",
     "output_type": "stream",
     "text": [
      "Reading dataset:\n"
     ]
    }
   ],
   "source": [
    "# os.chdir(\"E:\\ComputerScience\\Sem2\\ML\\Assignment1\\Assignmenst1_DecisionTree\\Files\")\n",
    "path = \"amazon_baby_train.csv\"\n",
    "print(\"Reading dataset:\")\n",
    "sms = pd.read_table(path, header=None, sep=',', names=['name', 'review', 'rating'])\n",
    "data_clean = sms.dropna()"
   ]
  },
  {
   "cell_type": "code",
   "execution_count": 3,
   "metadata": {
    "collapsed": false
   },
   "outputs": [
    {
     "name": "stderr",
     "output_type": "stream",
     "text": [
      "C:\\Users\\ashik\\Anaconda3\\lib\\site-packages\\ipykernel\\__main__.py:2: SettingWithCopyWarning: \n",
      "A value is trying to be set on a copy of a slice from a DataFrame.\n",
      "Try using .loc[row_indexer,col_indexer] = value instead\n",
      "\n",
      "See the caveats in the documentation: http://pandas.pydata.org/pandas-docs/stable/indexing.html#indexing-view-versus-copy\n",
      "  from ipykernel import kernelapp as app\n"
     ]
    }
   ],
   "source": [
    "# Add column to identify if rating is good= 1 and bad = 0\n",
    "data_clean['rating_num'] = data_clean.rating.map({'1': 0, '2': 0, '3': 1, '4': 1, '5': 1})\n",
    "data_clean = data_clean[data_clean.rating_num != None]\n",
    "data_clean = data_clean.drop(data_clean.index[[0]])\n",
    "data_clean['rating_num'] = data_clean['rating_num'].apply(np.int64)"
   ]
  },
  {
   "cell_type": "code",
   "execution_count": 4,
   "metadata": {
    "collapsed": false
   },
   "outputs": [
    {
     "name": "stdout",
     "output_type": "stream",
     "text": [
      "(145927,)\n",
      "(145927,)\n"
     ]
    }
   ],
   "source": [
    "# how to define X and y for use with COUNTVECTORIZER\n",
    "X = data_clean.review\n",
    "y = data_clean.rating_num\n",
    "print(X.shape)\n",
    "print(y.shape)"
   ]
  },
  {
   "cell_type": "code",
   "execution_count": 5,
   "metadata": {
    "collapsed": true
   },
   "outputs": [],
   "source": [
    "# split X and y into training and testing sets\n",
    "from sklearn.model_selection import train_test_split"
   ]
  },
  {
   "cell_type": "code",
   "execution_count": 6,
   "metadata": {
    "collapsed": true
   },
   "outputs": [],
   "source": [
    "X_train, X_test, y_train, y_test = train_test_split(X, y, test_size=.4)\n",
    "# print(X_train.shape)\n",
    "# print(X_test.shape)\n",
    "# print(y_train.shape)\n",
    "# print(y_test.shape)"
   ]
  },
  {
   "cell_type": "code",
   "execution_count": 7,
   "metadata": {
    "collapsed": false
   },
   "outputs": [
    {
     "name": "stdout",
     "output_type": "stream",
     "text": [
      "After fit transform\n"
     ]
    }
   ],
   "source": [
    "# instantiate the vectorizer\n",
    "from sklearn.feature_extraction.text import CountVectorizer\n",
    "\n",
    "vect = CountVectorizer()\n",
    "# learn training data vocabulary, then use it to create a document-term matrix\n",
    "vect.fit(X_train)\n",
    "X_train_dtm = vect.transform(X_train)\n",
    "# equivalently: combine fit and transform into a single step\n",
    "X_train_dtm = vect.fit_transform(X_train)\n",
    "print(\"After fit transform\")\n",
    "X_test_dtm = vect.transform(X_test)\n",
    "# print(X_test_dtm)"
   ]
  },
  {
   "cell_type": "code",
   "execution_count": 8,
   "metadata": {
    "collapsed": false
   },
   "outputs": [
    {
     "name": "stderr",
     "output_type": "stream",
     "text": [
      "C:\\Users\\ashik\\Anaconda3\\lib\\site-packages\\sklearn\\neural_network\\multilayer_perceptron.py:565: UserWarning: Training interrupted by user.\n",
      "  warnings.warn(\"Training interrupted by user.\")\n"
     ]
    }
   ],
   "source": [
    "from sklearn.neural_network import MLPClassifier\n",
    "\n",
    "classifier = MLPClassifier(hidden_layer_sizes=\n",
    "(50),solver='sgd',learning_rate_init=0.01,max_iter=100)\n",
    "# train the model using X_train_dtm (timing it with an IPython \"magic command\")\n",
    "classifier = classifier.fit(X_train_dtm, y_train)"
   ]
  },
  {
   "cell_type": "code",
   "execution_count": 9,
   "metadata": {
    "collapsed": true
   },
   "outputs": [],
   "source": [
    "classifier = MLPClassifier(hidden_layer_sizes=\n",
    "(10),solver='sgd',learning_rate_init=0.01,max_iter=100)\n",
    "# train the model using X_train_dtm (timing it with an IPython \"magic command\")\n",
    "classifier = classifier.fit(X_train_dtm, y_train)"
   ]
  },
  {
   "cell_type": "code",
   "execution_count": 10,
   "metadata": {
    "collapsed": false
   },
   "outputs": [
    {
     "name": "stdout",
     "output_type": "stream",
     "text": [
      "Training Accuracy: 0.902537\n",
      "Training set loss: 0.071648\n"
     ]
    }
   ],
   "source": [
    "# make class predictions for X_test_dtm\n",
    "y_pred_class = classifier.predict(X_test_dtm)\n",
    "# print(y_pred_class)\n",
    "# print(y_test)\n",
    "print(\"Training Accuracy: %f\" % classifier.score(X_test_dtm, y_test))\n",
    "print(\"Training set loss: %f\" % classifier.loss_)"
   ]
  },
  {
   "cell_type": "code",
   "execution_count": 11,
   "metadata": {
    "collapsed": true
   },
   "outputs": [],
   "source": [
    "testpath = \"amazon_baby_test.csv\"\n",
    "test_data = pd.read_table(testpath, header=None, sep=',', names=['name', 'review', 'rating'])\n",
    "\n",
    "test_data_clean = test_data.dropna()"
   ]
  },
  {
   "cell_type": "code",
   "execution_count": 12,
   "metadata": {
    "collapsed": false
   },
   "outputs": [
    {
     "name": "stderr",
     "output_type": "stream",
     "text": [
      "C:\\Users\\ashik\\Anaconda3\\lib\\site-packages\\ipykernel\\__main__.py:1: SettingWithCopyWarning: \n",
      "A value is trying to be set on a copy of a slice from a DataFrame.\n",
      "Try using .loc[row_indexer,col_indexer] = value instead\n",
      "\n",
      "See the caveats in the documentation: http://pandas.pydata.org/pandas-docs/stable/indexing.html#indexing-view-versus-copy\n",
      "  if __name__ == '__main__':\n"
     ]
    }
   ],
   "source": [
    "test_data_clean['rating_num'] = test_data_clean.rating.map({'1': 0, '2': 0, '3': 1, '4': 1, '5': 1})\n",
    "test_data_clean = test_data_clean[test_data_clean.rating_num != None]\n",
    "test_data_clean = test_data_clean.drop(test_data_clean.index[[0]])\n",
    "test_data_clean['rating_num'] = test_data_clean['rating_num'].apply(np.int64)"
   ]
  },
  {
   "cell_type": "code",
   "execution_count": 13,
   "metadata": {
    "collapsed": false
   },
   "outputs": [
    {
     "name": "stdout",
     "output_type": "stream",
     "text": [
      "(145927,)\n",
      "(145927,)\n",
      "(36457,)\n",
      "(36457,)\n"
     ]
    }
   ],
   "source": [
    "XT_train = data_clean.review\n",
    "YT_train = data_clean.rating_num\n",
    "\n",
    "XT_test = test_data_clean.review\n",
    "YT_test = test_data_clean.rating_num\n",
    "\n",
    "print(XT_train.shape)\n",
    "print(YT_train.shape)\n",
    "print(XT_test.shape)\n",
    "print(YT_test.shape)"
   ]
  },
  {
   "cell_type": "code",
   "execution_count": 14,
   "metadata": {
    "collapsed": true
   },
   "outputs": [],
   "source": [
    "newvect = CountVectorizer()\n",
    "newvect.fit(XT_train)\n",
    "XT_train_dtm = newvect.transform(XT_train)\n",
    "XT_train_dtm = newvect.fit_transform(XT_train)\n",
    "XT_test_dtm = newvect.transform(XT_test)"
   ]
  },
  {
   "cell_type": "code",
   "execution_count": 15,
   "metadata": {
    "collapsed": false
   },
   "outputs": [
    {
     "name": "stdout",
     "output_type": "stream",
     "text": [
      "------------------------------------------------------------------------\n"
     ]
    }
   ],
   "source": [
    "new_classifier = MLPClassifier(hidden_layer_sizes=\n",
    "(10),solver='sgd',learning_rate_init=0.01,max_iter=100)\n",
    "new_classifier = new_classifier.fit(XT_train_dtm, YT_train)\n",
    "print(\"------------------------------------------------------------------------\")\n",
    "new_predictions = new_classifier.predict(XT_test_dtm)"
   ]
  },
  {
   "cell_type": "code",
   "execution_count": 16,
   "metadata": {
    "collapsed": false
   },
   "outputs": [
    {
     "name": "stdout",
     "output_type": "stream",
     "text": [
      "Testing Accuracy: 0.901363\n"
     ]
    }
   ],
   "source": [
    "print(\"Testing Accuracy: %f\"  % new_classifier.score(XT_test_dtm, YT_test))"
   ]
  },
  {
   "cell_type": "code",
   "execution_count": 17,
   "metadata": {
    "collapsed": false
   },
   "outputs": [
    {
     "name": "stdout",
     "output_type": "stream",
     "text": [
      "Testing set loss: 0.049255\n",
      "Execution completed.\n"
     ]
    }
   ],
   "source": [
    "print(\"Testing set loss: %f\" % new_classifier.loss_)\n",
    "print(\"Execution completed.\")"
   ]
  },
  {
   "cell_type": "code",
   "execution_count": 18,
   "metadata": {
    "collapsed": false
   },
   "outputs": [
    {
     "data": {
      "image/png": "[encoded data removed]",
      "text/plain": [
       "<matplotlib.figure.Figure at 0x22bc16d2828>"
      ]
     },
     "metadata": {},
     "output_type": "display_data"
    }
   ],
   "source": [
    "import matplotlib.pyplot as plt\n",
    "plt.title(\"Training Loss\")\n",
    "plt.plot(classifier.loss_curve_)\n",
    "plt.show()"
   ]
  },
  {
   "cell_type": "code",
   "execution_count": 19,
   "metadata": {
    "collapsed": false
   },
   "outputs": [
    {
     "data": {
      "image/png": "[encoded data removed]",
      "text/plain": [
       "<matplotlib.figure.Figure at 0x22bcb754c18>"
      ]
     },
     "metadata": {},
     "output_type": "display_data"
    }
   ],
   "source": [
    "plt.title(\"Testing Loss\")\n",
    "plt.plot(new_classifier.loss_curve_)\n",
    "plt.show()"
   ]
  },
  {
   "cell_type": "code",
   "execution_count": null,
   "metadata": {
    "collapsed": true
   },
   "outputs": [],
   "source": []
  }
 ],
 "metadata": {
  "kernelspec": {
   "display_name": "Python [default]",
   "language": "python",
   "name": "python3"
  },
  "language_info": {
   "codemirror_mode": {
    "name": "ipython",
    "version": 3
   },
   "file_extension": ".py",
   "mimetype": "text/x-python",
   "name": "python",
   "nbconvert_exporter": "python",
   "pygments_lexer": "ipython3",
   "version": "3.5.2"
  }
 },
 "nbformat": 4,
 "nbformat_minor": 1
}
